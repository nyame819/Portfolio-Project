{
  "cells": [
    {
      "cell_type": "code",
      "source": [
        "# Import libraries\n",
        "\n",
        "import pandas as pd\n",
        "import numpy as np\n",
        "#import seaborn as sns\n",
        "\n",
        "import matplotlib.pyplot as plt\n",
        "import matplotlib.mlab as mlab\n",
        "import matplotlib\n",
        "plt.style.use('ggplot')\n",
        "from matplotlib.pyplot import figure\n",
        "\n",
        "%matplotlib inline\n",
        "matplotlib.rcParams['figure.figsize'] = (12,8)\n",
        "\n",
        "pd.options.mode.chained_assignment = None\n",
        "\n",
        "# Read in the data\n",
        "\n",
        "df = pd.read_csv(r'C:\\Users\\Paige\\Downloads\\New folder\\movies.csv')\n"
      ],
      "outputs": [],
      "execution_count": 3,
      "metadata": {
        "collapsed": true,
        "jupyter": {
          "source_hidden": false,
          "outputs_hidden": false
        },
        "nteract": {
          "transient": {
            "deleting": false
          }
        },
        "execution": {
          "iopub.status.busy": "2021-12-08T00:32:05.591Z",
          "iopub.execute_input": "2021-12-08T00:32:05.603Z",
          "shell.execute_reply": "2021-12-08T00:32:05.696Z",
          "iopub.status.idle": "2021-12-08T00:32:05.717Z"
        }
      }
    },
    {
      "cell_type": "code",
      "source": [
        "# Let's look at the data\n",
        "\n",
        "df.head()"
      ],
      "outputs": [
        {
          "output_type": "error",
          "ename": "NameError",
          "evalue": "name 'df' is not defined",
          "traceback": [
            "\u001b[1;31m---------------------------------------------------------------------------\u001b[0m",
            "\u001b[1;31mNameError\u001b[0m                                 Traceback (most recent call last)",
            "\u001b[1;32m<ipython-input-2-51a207834bcd>\u001b[0m in \u001b[0;36m<module>\u001b[1;34m\u001b[0m\n\u001b[0;32m      1\u001b[0m \u001b[1;31m# Let's look at the data\u001b[0m\u001b[1;33m\u001b[0m\u001b[1;33m\u001b[0m\u001b[1;33m\u001b[0m\u001b[0m\n\u001b[0;32m      2\u001b[0m \u001b[1;33m\u001b[0m\u001b[0m\n\u001b[1;32m----> 3\u001b[1;33m \u001b[0mdf\u001b[0m\u001b[1;33m.\u001b[0m\u001b[0mhead\u001b[0m\u001b[1;33m(\u001b[0m\u001b[1;33m)\u001b[0m\u001b[1;33m\u001b[0m\u001b[1;33m\u001b[0m\u001b[0m\n\u001b[0m",
            "\u001b[1;31mNameError\u001b[0m: name 'df' is not defined"
          ]
        }
      ],
      "execution_count": 2,
      "metadata": {
        "collapsed": true,
        "jupyter": {
          "source_hidden": false,
          "outputs_hidden": false
        },
        "nteract": {
          "transient": {
            "deleting": false
          }
        },
        "execution": {
          "iopub.status.busy": "2021-12-08T00:31:57.775Z",
          "iopub.execute_input": "2021-12-08T00:31:57.786Z",
          "iopub.status.idle": "2021-12-07T23:22:25.341Z",
          "shell.execute_reply": "2021-12-07T23:22:25.346Z"
        }
      }
    },
    {
      "cell_type": "code",
      "source": [
        "# Let's see if there is any missing data\n",
        "\n",
        "for col in df.columns:\n",
        "  pct_missing = np.mean(df[col].isnull())\n",
        "  print('{} - {}%'.format(col, pct_missing))"
      ],
      "outputs": [],
      "execution_count": null,
      "metadata": {
        "collapsed": true,
        "jupyter": {
          "source_hidden": false,
          "outputs_hidden": false
        },
        "nteract": {
          "transient": {
            "deleting": false
          }
        },
        "execution": {
          "iopub.status.busy": "2021-12-07T22:02:57.021Z",
          "iopub.execute_input": "2021-12-07T22:02:57.024Z",
          "iopub.status.idle": "2021-12-07T22:02:57.042Z",
          "shell.execute_reply": "2021-12-07T22:02:57.049Z"
        }
      }
    },
    {
      "cell_type": "code",
      "source": [
        "# Data types for our columns\n",
        "df.dtypes"
      ],
      "outputs": [],
      "execution_count": null,
      "metadata": {
        "collapsed": true,
        "jupyter": {
          "source_hidden": false,
          "outputs_hidden": false
        },
        "nteract": {
          "transient": {
            "deleting": false
          }
        },
        "execution": {
          "iopub.status.busy": "2021-12-07T23:21:40.409Z",
          "iopub.execute_input": "2021-12-07T23:21:40.413Z",
          "iopub.status.idle": "2021-12-07T23:21:40.477Z",
          "shell.execute_reply": "2021-12-07T23:21:40.481Z"
        }
      }
    },
    {
      "cell_type": "code",
      "source": [
        "# Change data type of columns\n",
        "\n",
        "df['budget'] = df['budget'].astype('Int64')\n",
        "\n",
        "df['gross'] = df['gross'].astype('Int64')"
      ],
      "outputs": [],
      "execution_count": 3,
      "metadata": {
        "collapsed": true,
        "jupyter": {
          "source_hidden": false,
          "outputs_hidden": false
        },
        "nteract": {
          "transient": {
            "deleting": false
          }
        },
        "execution": {
          "iopub.status.busy": "2021-12-07T23:51:12.038Z",
          "iopub.execute_input": "2021-12-07T23:51:12.045Z",
          "iopub.status.idle": "2021-12-07T23:51:12.057Z",
          "shell.execute_reply": "2021-12-07T23:51:12.069Z"
        }
      }
    },
    {
      "cell_type": "code",
      "source": [
        "# Create Correct Year column\n",
        "\n",
        "df['released'] = df['released'].astype(str).str.split(', ').str[1:]\n",
        "\n",
        "df['YearCorrected'] = df['released'].astype(str).str[2:7]\n",
        "df"
      ],
      "outputs": [
        {
          "output_type": "execute_result",
          "execution_count": 4,
          "data": {
            "text/plain": "                                                name rating      genre  year  \\\n0                                        The Shining      R      Drama  1980   \n1                                    The Blue Lagoon      R  Adventure  1980   \n2     Star Wars: Episode V - The Empire Strikes Back     PG     Action  1980   \n3                                          Airplane!     PG     Comedy  1980   \n4                                         Caddyshack      R     Comedy  1980   \n...                                              ...    ...        ...   ...   \n7663                                    More to Life    NaN      Drama  2020   \n7664                                     Dream Round    NaN     Comedy  2020   \n7665                                   Saving Mbango    NaN      Drama  2020   \n7666                                    It's Just Us    NaN      Drama  2020   \n7667                                       Tee em el    NaN     Horror  2020   \n\n                    released  score      votes         director  \\\n0     [1980 (United States)]    8.4   927000.0  Stanley Kubrick   \n1     [1980 (United States)]    5.8    65000.0   Randal Kleiser   \n2     [1980 (United States)]    8.7  1200000.0   Irvin Kershner   \n3     [1980 (United States)]    7.7   221000.0     Jim Abrahams   \n4     [1980 (United States)]    7.3   108000.0     Harold Ramis   \n...                      ...    ...        ...              ...   \n7663  [2020 (United States)]    3.1       18.0    Joseph Ebanks   \n7664  [2020 (United States)]    4.7       36.0     Dusty Dukatz   \n7665       [2020 (Cameroon)]    5.7       29.0     Nkanya Nkwai   \n7666  [2020 (United States)]    NaN        NaN    James Randall   \n7667  [2020 (United States)]    5.7        7.0     Pereko Mosia   \n\n                       writer              star         country    budget  \\\n0                Stephen King    Jack Nicholson  United Kingdom  19000000   \n1     Henry De Vere Stacpoole    Brooke Shields   United States   4500000   \n2              Leigh Brackett       Mark Hamill   United States  18000000   \n3                Jim Abrahams       Robert Hays   United States   3500000   \n4          Brian Doyle-Murray       Chevy Chase   United States   6000000   \n...                       ...               ...             ...       ...   \n7663            Joseph Ebanks      Shannon Bond   United States      7000   \n7664              Lisa Huston  Michael Saquella   United States       NaN   \n7665             Lynno Lovert      Onyama Laura   United States     58750   \n7666            James Randall     Christina Roz   United States     15000   \n7667             Pereko Mosia  Siyabonga Mabaso    South Africa       NaN   \n\n          gross                    company  runtime YearCorrected  \n0      46998772               Warner Bros.    146.0         1980   \n1      58853106          Columbia Pictures    104.0         1980   \n2     538375067                  Lucasfilm    124.0         1980   \n3      83453539         Paramount Pictures     88.0         1980   \n4      39846344             Orion Pictures     98.0         1980   \n...         ...                        ...      ...           ...  \n7663        NaN                        NaN     90.0         2020   \n7664        NaN  Cactus Blue Entertainment     90.0         2020   \n7665        NaN           Embi Productions      NaN         2020   \n7666        NaN                        NaN    120.0         2020   \n7667        NaN                PK 65 Films    102.0         2020   \n\n[7668 rows x 16 columns]",
            "text/html": "<div>\n<style scoped>\n    .dataframe tbody tr th:only-of-type {\n        vertical-align: middle;\n    }\n\n    .dataframe tbody tr th {\n        vertical-align: top;\n    }\n\n    .dataframe thead th {\n        text-align: right;\n    }\n</style>\n<table border=\"1\" class=\"dataframe\">\n  <thead>\n    <tr style=\"text-align: right;\">\n      <th></th>\n      <th>name</th>\n      <th>rating</th>\n      <th>genre</th>\n      <th>year</th>\n      <th>released</th>\n      <th>score</th>\n      <th>votes</th>\n      <th>director</th>\n      <th>writer</th>\n      <th>star</th>\n      <th>country</th>\n      <th>budget</th>\n      <th>gross</th>\n      <th>company</th>\n      <th>runtime</th>\n      <th>YearCorrected</th>\n    </tr>\n  </thead>\n  <tbody>\n    <tr>\n      <td>0</td>\n      <td>The Shining</td>\n      <td>R</td>\n      <td>Drama</td>\n      <td>1980</td>\n      <td>[1980 (United States)]</td>\n      <td>8.4</td>\n      <td>927000.0</td>\n      <td>Stanley Kubrick</td>\n      <td>Stephen King</td>\n      <td>Jack Nicholson</td>\n      <td>United Kingdom</td>\n      <td>19000000</td>\n      <td>46998772</td>\n      <td>Warner Bros.</td>\n      <td>146.0</td>\n      <td>1980</td>\n    </tr>\n    <tr>\n      <td>1</td>\n      <td>The Blue Lagoon</td>\n      <td>R</td>\n      <td>Adventure</td>\n      <td>1980</td>\n      <td>[1980 (United States)]</td>\n      <td>5.8</td>\n      <td>65000.0</td>\n      <td>Randal Kleiser</td>\n      <td>Henry De Vere Stacpoole</td>\n      <td>Brooke Shields</td>\n      <td>United States</td>\n      <td>4500000</td>\n      <td>58853106</td>\n      <td>Columbia Pictures</td>\n      <td>104.0</td>\n      <td>1980</td>\n    </tr>\n    <tr>\n      <td>2</td>\n      <td>Star Wars: Episode V - The Empire Strikes Back</td>\n      <td>PG</td>\n      <td>Action</td>\n      <td>1980</td>\n      <td>[1980 (United States)]</td>\n      <td>8.7</td>\n      <td>1200000.0</td>\n      <td>Irvin Kershner</td>\n      <td>Leigh Brackett</td>\n      <td>Mark Hamill</td>\n      <td>United States</td>\n      <td>18000000</td>\n      <td>538375067</td>\n      <td>Lucasfilm</td>\n      <td>124.0</td>\n      <td>1980</td>\n    </tr>\n    <tr>\n      <td>3</td>\n      <td>Airplane!</td>\n      <td>PG</td>\n      <td>Comedy</td>\n      <td>1980</td>\n      <td>[1980 (United States)]</td>\n      <td>7.7</td>\n      <td>221000.0</td>\n      <td>Jim Abrahams</td>\n      <td>Jim Abrahams</td>\n      <td>Robert Hays</td>\n      <td>United States</td>\n      <td>3500000</td>\n      <td>83453539</td>\n      <td>Paramount Pictures</td>\n      <td>88.0</td>\n      <td>1980</td>\n    </tr>\n    <tr>\n      <td>4</td>\n      <td>Caddyshack</td>\n      <td>R</td>\n      <td>Comedy</td>\n      <td>1980</td>\n      <td>[1980 (United States)]</td>\n      <td>7.3</td>\n      <td>108000.0</td>\n      <td>Harold Ramis</td>\n      <td>Brian Doyle-Murray</td>\n      <td>Chevy Chase</td>\n      <td>United States</td>\n      <td>6000000</td>\n      <td>39846344</td>\n      <td>Orion Pictures</td>\n      <td>98.0</td>\n      <td>1980</td>\n    </tr>\n    <tr>\n      <td>...</td>\n      <td>...</td>\n      <td>...</td>\n      <td>...</td>\n      <td>...</td>\n      <td>...</td>\n      <td>...</td>\n      <td>...</td>\n      <td>...</td>\n      <td>...</td>\n      <td>...</td>\n      <td>...</td>\n      <td>...</td>\n      <td>...</td>\n      <td>...</td>\n      <td>...</td>\n      <td>...</td>\n    </tr>\n    <tr>\n      <td>7663</td>\n      <td>More to Life</td>\n      <td>NaN</td>\n      <td>Drama</td>\n      <td>2020</td>\n      <td>[2020 (United States)]</td>\n      <td>3.1</td>\n      <td>18.0</td>\n      <td>Joseph Ebanks</td>\n      <td>Joseph Ebanks</td>\n      <td>Shannon Bond</td>\n      <td>United States</td>\n      <td>7000</td>\n      <td>NaN</td>\n      <td>NaN</td>\n      <td>90.0</td>\n      <td>2020</td>\n    </tr>\n    <tr>\n      <td>7664</td>\n      <td>Dream Round</td>\n      <td>NaN</td>\n      <td>Comedy</td>\n      <td>2020</td>\n      <td>[2020 (United States)]</td>\n      <td>4.7</td>\n      <td>36.0</td>\n      <td>Dusty Dukatz</td>\n      <td>Lisa Huston</td>\n      <td>Michael Saquella</td>\n      <td>United States</td>\n      <td>NaN</td>\n      <td>NaN</td>\n      <td>Cactus Blue Entertainment</td>\n      <td>90.0</td>\n      <td>2020</td>\n    </tr>\n    <tr>\n      <td>7665</td>\n      <td>Saving Mbango</td>\n      <td>NaN</td>\n      <td>Drama</td>\n      <td>2020</td>\n      <td>[2020 (Cameroon)]</td>\n      <td>5.7</td>\n      <td>29.0</td>\n      <td>Nkanya Nkwai</td>\n      <td>Lynno Lovert</td>\n      <td>Onyama Laura</td>\n      <td>United States</td>\n      <td>58750</td>\n      <td>NaN</td>\n      <td>Embi Productions</td>\n      <td>NaN</td>\n      <td>2020</td>\n    </tr>\n    <tr>\n      <td>7666</td>\n      <td>It's Just Us</td>\n      <td>NaN</td>\n      <td>Drama</td>\n      <td>2020</td>\n      <td>[2020 (United States)]</td>\n      <td>NaN</td>\n      <td>NaN</td>\n      <td>James Randall</td>\n      <td>James Randall</td>\n      <td>Christina Roz</td>\n      <td>United States</td>\n      <td>15000</td>\n      <td>NaN</td>\n      <td>NaN</td>\n      <td>120.0</td>\n      <td>2020</td>\n    </tr>\n    <tr>\n      <td>7667</td>\n      <td>Tee em el</td>\n      <td>NaN</td>\n      <td>Horror</td>\n      <td>2020</td>\n      <td>[2020 (United States)]</td>\n      <td>5.7</td>\n      <td>7.0</td>\n      <td>Pereko Mosia</td>\n      <td>Pereko Mosia</td>\n      <td>Siyabonga Mabaso</td>\n      <td>South Africa</td>\n      <td>NaN</td>\n      <td>NaN</td>\n      <td>PK 65 Films</td>\n      <td>102.0</td>\n      <td>2020</td>\n    </tr>\n  </tbody>\n</table>\n<p>7668 rows × 16 columns</p>\n</div>"
          },
          "metadata": {}
        }
      ],
      "execution_count": 4,
      "metadata": {
        "collapsed": true,
        "jupyter": {
          "source_hidden": false,
          "outputs_hidden": false
        },
        "nteract": {
          "transient": {
            "deleting": false
          }
        },
        "execution": {
          "iopub.status.busy": "2021-12-07T23:51:17.144Z",
          "iopub.execute_input": "2021-12-07T23:51:17.154Z",
          "iopub.status.idle": "2021-12-07T23:51:17.229Z",
          "shell.execute_reply": "2021-12-07T23:51:17.255Z"
        }
      }
    },
    {
      "cell_type": "code",
      "source": [
        "df.sort_values(by=['gross'], inplace=False, ascending=False)"
      ],
      "outputs": [],
      "execution_count": null,
      "metadata": {
        "collapsed": true,
        "jupyter": {
          "source_hidden": false,
          "outputs_hidden": false
        },
        "nteract": {
          "transient": {
            "deleting": false
          }
        },
        "execution": {
          "iopub.status.busy": "2021-12-07T23:27:56.581Z",
          "iopub.execute_input": "2021-12-07T23:27:56.586Z",
          "iopub.status.idle": "2021-12-07T23:28:02.512Z",
          "shell.execute_reply": "2021-12-07T23:28:13.355Z"
        }
      }
    },
    {
      "cell_type": "code",
      "source": [
        "pd.set_option('display.max_rows', None)"
      ],
      "outputs": [],
      "execution_count": null,
      "metadata": {
        "collapsed": true,
        "jupyter": {
          "source_hidden": false,
          "outputs_hidden": false
        },
        "nteract": {
          "transient": {
            "deleting": false
          }
        },
        "execution": {
          "iopub.status.busy": "2021-12-07T23:27:54.963Z",
          "iopub.execute_input": "2021-12-07T23:27:54.969Z",
          "iopub.status.idle": "2021-12-07T23:27:54.977Z",
          "shell.execute_reply": "2021-12-07T23:27:55.037Z"
        }
      }
    },
    {
      "cell_type": "code",
      "source": [
        "# Drop any duplicates\n",
        "df['company'].drop_duplicates().sort_values(ascending=False)"
      ],
      "outputs": [
        {
          "output_type": "execute_result",
          "execution_count": 10,
          "data": {
            "text/plain": "7129                                thefyzz\n5664                            micro_scope\n6412               iDeal Partners Film Fund\n4007                               i5 Films\n6793                             i am OTHER\n                       ...                 \n3748                     1+2 Seisaku Iinkai\n3024                        .406 Production\n7525    \"Weathering With You\" Film Partners\n4345        \"DIA\" Productions GmbH & Co. KG\n408                                     NaN\nName: company, Length: 2386, dtype: object"
          },
          "metadata": {}
        }
      ],
      "execution_count": 10,
      "metadata": {
        "collapsed": true,
        "jupyter": {
          "source_hidden": false,
          "outputs_hidden": false
        },
        "nteract": {
          "transient": {
            "deleting": false
          }
        },
        "execution": {
          "iopub.status.busy": "2021-12-07T23:55:41.943Z",
          "iopub.execute_input": "2021-12-07T23:55:41.950Z",
          "iopub.status.idle": "2021-12-07T23:55:42.021Z",
          "shell.execute_reply": "2021-12-07T23:55:42.035Z"
        }
      }
    },
    {
      "cell_type": "code",
      "source": [
        "# Scatter plot with budget vs gross\n",
        "\n",
        "plt.scatter(x=df['budget'], y=df['gross'])\n",
        "plt.title('Budget vs Gross Earnings')\n",
        "plt.xlabel('Gross Earnings')\n",
        "plt.ylabel('Budget for Film')\n",
        "\n",
        "plt.show()"
      ],
      "outputs": [
        {
          "output_type": "display_data",
          "data": {
            "text/plain": "<Figure size 864x576 with 1 Axes>",
            "image/png": "[encoded data removed]"
          },
          "metadata": {
            "needs_background": "light"
          }
        }
      ],
      "execution_count": 14,
      "metadata": {
        "collapsed": true,
        "jupyter": {
          "source_hidden": false,
          "outputs_hidden": false
        },
        "nteract": {
          "transient": {
            "deleting": false
          }
        },
        "execution": {
          "iopub.status.busy": "2021-12-07T23:58:20.129Z",
          "iopub.execute_input": "2021-12-07T23:58:20.136Z",
          "iopub.status.idle": "2021-12-07T23:58:20.326Z",
          "shell.execute_reply": "2021-12-07T23:58:20.314Z"
        }
      }
    },
    {
      "cell_type": "code",
      "source": [
        "# Plot budget vs gross using seaborn\n",
        "\n",
        "sns.regplot(x='budget', y='gross', data=df, scatter_kws={\"color\": \"red\"}, line_kws={\"color\": \"blue\"})"
      ],
      "outputs": [],
      "execution_count": null,
      "metadata": {
        "collapsed": true,
        "jupyter": {
          "source_hidden": false,
          "outputs_hidden": false
        },
        "nteract": {
          "transient": {
            "deleting": false
          }
        },
        "execution": {
          "iopub.status.busy": "2021-12-08T00:09:49.198Z",
          "iopub.execute_input": "2021-12-08T00:09:49.205Z"
        }
      }
    },
    {
      "cell_type": "code",
      "source": [
        "# Let's start looking at correlation\n",
        "\n",
        "df.corr(method='pearson') #pearson, kendall, spearman"
      ],
      "outputs": [
        {
          "output_type": "execute_result",
          "execution_count": 24,
          "data": {
            "text/plain": "             year     score     votes    budget     gross   runtime\nyear     1.000000  0.097995  0.222945  0.329321  0.257486  0.120811\nscore    0.097995  1.000000  0.409182  0.076254  0.186258  0.399451\nvotes    0.222945  0.409182  1.000000  0.442429  0.630757  0.309212\nbudget   0.329321  0.076254  0.442429  1.000000  0.740395  0.320447\ngross    0.257486  0.186258  0.630757  0.740395  1.000000  0.245216\nruntime  0.120811  0.399451  0.309212  0.320447  0.245216  1.000000",
            "text/html": "<div>\n<style scoped>\n    .dataframe tbody tr th:only-of-type {\n        vertical-align: middle;\n    }\n\n    .dataframe tbody tr th {\n        vertical-align: top;\n    }\n\n    .dataframe thead th {\n        text-align: right;\n    }\n</style>\n<table border=\"1\" class=\"dataframe\">\n  <thead>\n    <tr style=\"text-align: right;\">\n      <th></th>\n      <th>year</th>\n      <th>score</th>\n      <th>votes</th>\n      <th>budget</th>\n      <th>gross</th>\n      <th>runtime</th>\n    </tr>\n  </thead>\n  <tbody>\n    <tr>\n      <td>year</td>\n      <td>1.000000</td>\n      <td>0.097995</td>\n      <td>0.222945</td>\n      <td>0.329321</td>\n      <td>0.257486</td>\n      <td>0.120811</td>\n    </tr>\n    <tr>\n      <td>score</td>\n      <td>0.097995</td>\n      <td>1.000000</td>\n      <td>0.409182</td>\n      <td>0.076254</td>\n      <td>0.186258</td>\n      <td>0.399451</td>\n    </tr>\n    <tr>\n      <td>votes</td>\n      <td>0.222945</td>\n      <td>0.409182</td>\n      <td>1.000000</td>\n      <td>0.442429</td>\n      <td>0.630757</td>\n      <td>0.309212</td>\n    </tr>\n    <tr>\n      <td>budget</td>\n      <td>0.329321</td>\n      <td>0.076254</td>\n      <td>0.442429</td>\n      <td>1.000000</td>\n      <td>0.740395</td>\n      <td>0.320447</td>\n    </tr>\n    <tr>\n      <td>gross</td>\n      <td>0.257486</td>\n      <td>0.186258</td>\n      <td>0.630757</td>\n      <td>0.740395</td>\n      <td>1.000000</td>\n      <td>0.245216</td>\n    </tr>\n    <tr>\n      <td>runtime</td>\n      <td>0.120811</td>\n      <td>0.399451</td>\n      <td>0.309212</td>\n      <td>0.320447</td>\n      <td>0.245216</td>\n      <td>1.000000</td>\n    </tr>\n  </tbody>\n</table>\n</div>"
          },
          "metadata": {}
        }
      ],
      "execution_count": 24,
      "metadata": {
        "collapsed": true,
        "jupyter": {
          "source_hidden": false,
          "outputs_hidden": false
        },
        "nteract": {
          "transient": {
            "deleting": false
          }
        },
        "execution": {
          "iopub.status.busy": "2021-12-08T00:13:47.277Z",
          "iopub.execute_input": "2021-12-08T00:13:47.285Z",
          "shell.execute_reply": "2021-12-08T00:13:47.319Z",
          "iopub.status.idle": "2021-12-08T00:13:47.299Z"
        }
      }
    },
    {
      "cell_type": "code",
      "source": [
        "correlation_matrix = df.corr(method='pearson')\n",
        "sns.heatmap(correlation_matrix, annot=True)\n",
        "plt.title('Correlation Matric for Numeric  Features')\n",
        "plt.xlabel('Movie Features')\n",
        "plt.ylabel('Movie Features')\n",
        "plt.show()"
      ],
      "outputs": [
        {
          "output_type": "error",
          "ename": "NameError",
          "evalue": "name 'sns' is not defined",
          "traceback": [
            "\u001b[1;31m---------------------------------------------------------------------------\u001b[0m",
            "\u001b[1;31mNameError\u001b[0m                                 Traceback (most recent call last)",
            "\u001b[1;32m<ipython-input-25-71733f1ba77e>\u001b[0m in \u001b[0;36m<module>\u001b[1;34m\u001b[0m\n\u001b[0;32m      1\u001b[0m \u001b[0mcorrelation_matrix\u001b[0m \u001b[1;33m=\u001b[0m \u001b[0mdf\u001b[0m\u001b[1;33m.\u001b[0m\u001b[0mcorr\u001b[0m\u001b[1;33m(\u001b[0m\u001b[0mmethod\u001b[0m\u001b[1;33m=\u001b[0m\u001b[1;34m'pearson'\u001b[0m\u001b[1;33m)\u001b[0m\u001b[1;33m\u001b[0m\u001b[1;33m\u001b[0m\u001b[0m\n\u001b[1;32m----> 2\u001b[1;33m \u001b[0msns\u001b[0m\u001b[1;33m.\u001b[0m\u001b[0mheatmap\u001b[0m\u001b[1;33m(\u001b[0m\u001b[0mcorrelation_matrix\u001b[0m\u001b[1;33m,\u001b[0m \u001b[0mannot\u001b[0m\u001b[1;33m=\u001b[0m\u001b[1;32mTrue\u001b[0m\u001b[1;33m)\u001b[0m\u001b[1;33m\u001b[0m\u001b[1;33m\u001b[0m\u001b[0m\n\u001b[0m\u001b[0;32m      3\u001b[0m \u001b[0mplt\u001b[0m\u001b[1;33m.\u001b[0m\u001b[0mshow\u001b[0m\u001b[1;33m(\u001b[0m\u001b[1;33m)\u001b[0m\u001b[1;33m\u001b[0m\u001b[1;33m\u001b[0m\u001b[0m\n",
            "\u001b[1;31mNameError\u001b[0m: name 'sns' is not defined"
          ]
        }
      ],
      "execution_count": 25,
      "metadata": {
        "collapsed": true,
        "jupyter": {
          "source_hidden": false,
          "outputs_hidden": false
        },
        "nteract": {
          "transient": {
            "deleting": false
          }
        },
        "execution": {
          "iopub.status.busy": "2021-12-08T00:15:28.983Z",
          "iopub.execute_input": "2021-12-08T00:15:28.990Z"
        }
      }
    },
    {
      "cell_type": "code",
      "source": [
        "# Look at Company\n",
        "\n",
        "df_numerized = df\n",
        "for col_name in df_numerized.columns:\n",
        "  if(df_numerized[col_name].dtype == 'object'):\n",
        "    df_numerized[col_name] = df_numerized[col_name].astype('category')\n",
        "    df_numerized[col_name] = df_numerized[col_name].cat.codes\n",
        "    \n",
        "df_numerized"
      ],
      "outputs": [
        {
          "output_type": "execute_result",
          "execution_count": 26,
          "data": {
            "text/plain": "      name  rating  genre  year  released  score      votes  director  writer  \\\n0     6587       6      6  1980      1705    8.4   927000.0      2589    4014   \n1     5573       6      1  1980      1492    5.8    65000.0      2269    1632   \n2     5142       4      0  1980      1771    8.7  1200000.0      1111    2567   \n3      286       4      4  1980      1492    7.7   221000.0      1301    2000   \n4     1027       6      4  1980      1543    7.3   108000.0      1054     521   \n...    ...     ...    ...   ...       ...    ...        ...       ...     ...   \n7663  3705      -1      6  2020      2964    3.1       18.0      1500    2289   \n7664  1678      -1      4  2020      1107    4.7       36.0       774    2614   \n7665  4717      -1      6  2020       193    5.7       29.0      2061    2683   \n7666  2843      -1      6  2020      2817    NaN        NaN      1184    1824   \n7667  5394      -1     10  2020       391    5.7        7.0      2165    3344   \n\n      star  country      budget        gross  company  runtime  \n0     1047       54  19000000.0   46998772.0     2319    146.0  \n1      327       55   4500000.0   58853106.0      731    104.0  \n2     1745       55  18000000.0  538375067.0     1540    124.0  \n3     2246       55   3500000.0   83453539.0     1812     88.0  \n4      410       55   6000000.0   39846344.0     1777     98.0  \n...    ...      ...         ...          ...      ...      ...  \n7663  2421       55      7000.0          NaN       -1     90.0  \n7664  1886       55         NaN          NaN      539     90.0  \n7665  2040       55     58750.0          NaN      941      NaN  \n7666   450       55     15000.0          NaN       -1    120.0  \n7667  2463       44         NaN          NaN     1787    102.0  \n\n[7668 rows x 15 columns]",
            "text/html": "<div>\n<style scoped>\n    .dataframe tbody tr th:only-of-type {\n        vertical-align: middle;\n    }\n\n    .dataframe tbody tr th {\n        vertical-align: top;\n    }\n\n    .dataframe thead th {\n        text-align: right;\n    }\n</style>\n<table border=\"1\" class=\"dataframe\">\n  <thead>\n    <tr style=\"text-align: right;\">\n      <th></th>\n      <th>name</th>\n      <th>rating</th>\n      <th>genre</th>\n      <th>year</th>\n      <th>released</th>\n      <th>score</th>\n      <th>votes</th>\n      <th>director</th>\n      <th>writer</th>\n      <th>star</th>\n      <th>country</th>\n      <th>budget</th>\n      <th>gross</th>\n      <th>company</th>\n      <th>runtime</th>\n    </tr>\n  </thead>\n  <tbody>\n    <tr>\n      <td>0</td>\n      <td>6587</td>\n      <td>6</td>\n      <td>6</td>\n      <td>1980</td>\n      <td>1705</td>\n      <td>8.4</td>\n      <td>927000.0</td>\n      <td>2589</td>\n      <td>4014</td>\n      <td>1047</td>\n      <td>54</td>\n      <td>19000000.0</td>\n      <td>46998772.0</td>\n      <td>2319</td>\n      <td>146.0</td>\n    </tr>\n    <tr>\n      <td>1</td>\n      <td>5573</td>\n      <td>6</td>\n      <td>1</td>\n      <td>1980</td>\n      <td>1492</td>\n      <td>5.8</td>\n      <td>65000.0</td>\n      <td>2269</td>\n      <td>1632</td>\n      <td>327</td>\n      <td>55</td>\n      <td>4500000.0</td>\n      <td>58853106.0</td>\n      <td>731</td>\n      <td>104.0</td>\n    </tr>\n    <tr>\n      <td>2</td>\n      <td>5142</td>\n      <td>4</td>\n      <td>0</td>\n      <td>1980</td>\n      <td>1771</td>\n      <td>8.7</td>\n      <td>1200000.0</td>\n      <td>1111</td>\n      <td>2567</td>\n      <td>1745</td>\n      <td>55</td>\n      <td>18000000.0</td>\n      <td>538375067.0</td>\n      <td>1540</td>\n      <td>124.0</td>\n    </tr>\n    <tr>\n      <td>3</td>\n      <td>286</td>\n      <td>4</td>\n      <td>4</td>\n      <td>1980</td>\n      <td>1492</td>\n      <td>7.7</td>\n      <td>221000.0</td>\n      <td>1301</td>\n      <td>2000</td>\n      <td>2246</td>\n      <td>55</td>\n      <td>3500000.0</td>\n      <td>83453539.0</td>\n      <td>1812</td>\n      <td>88.0</td>\n    </tr>\n    <tr>\n      <td>4</td>\n      <td>1027</td>\n      <td>6</td>\n      <td>4</td>\n      <td>1980</td>\n      <td>1543</td>\n      <td>7.3</td>\n      <td>108000.0</td>\n      <td>1054</td>\n      <td>521</td>\n      <td>410</td>\n      <td>55</td>\n      <td>6000000.0</td>\n      <td>39846344.0</td>\n      <td>1777</td>\n      <td>98.0</td>\n    </tr>\n    <tr>\n      <td>...</td>\n      <td>...</td>\n      <td>...</td>\n      <td>...</td>\n      <td>...</td>\n      <td>...</td>\n      <td>...</td>\n      <td>...</td>\n      <td>...</td>\n      <td>...</td>\n      <td>...</td>\n      <td>...</td>\n      <td>...</td>\n      <td>...</td>\n      <td>...</td>\n      <td>...</td>\n    </tr>\n    <tr>\n      <td>7663</td>\n      <td>3705</td>\n      <td>-1</td>\n      <td>6</td>\n      <td>2020</td>\n      <td>2964</td>\n      <td>3.1</td>\n      <td>18.0</td>\n      <td>1500</td>\n      <td>2289</td>\n      <td>2421</td>\n      <td>55</td>\n      <td>7000.0</td>\n      <td>NaN</td>\n      <td>-1</td>\n      <td>90.0</td>\n    </tr>\n    <tr>\n      <td>7664</td>\n      <td>1678</td>\n      <td>-1</td>\n      <td>4</td>\n      <td>2020</td>\n      <td>1107</td>\n      <td>4.7</td>\n      <td>36.0</td>\n      <td>774</td>\n      <td>2614</td>\n      <td>1886</td>\n      <td>55</td>\n      <td>NaN</td>\n      <td>NaN</td>\n      <td>539</td>\n      <td>90.0</td>\n    </tr>\n    <tr>\n      <td>7665</td>\n      <td>4717</td>\n      <td>-1</td>\n      <td>6</td>\n      <td>2020</td>\n      <td>193</td>\n      <td>5.7</td>\n      <td>29.0</td>\n      <td>2061</td>\n      <td>2683</td>\n      <td>2040</td>\n      <td>55</td>\n      <td>58750.0</td>\n      <td>NaN</td>\n      <td>941</td>\n      <td>NaN</td>\n    </tr>\n    <tr>\n      <td>7666</td>\n      <td>2843</td>\n      <td>-1</td>\n      <td>6</td>\n      <td>2020</td>\n      <td>2817</td>\n      <td>NaN</td>\n      <td>NaN</td>\n      <td>1184</td>\n      <td>1824</td>\n      <td>450</td>\n      <td>55</td>\n      <td>15000.0</td>\n      <td>NaN</td>\n      <td>-1</td>\n      <td>120.0</td>\n    </tr>\n    <tr>\n      <td>7667</td>\n      <td>5394</td>\n      <td>-1</td>\n      <td>10</td>\n      <td>2020</td>\n      <td>391</td>\n      <td>5.7</td>\n      <td>7.0</td>\n      <td>2165</td>\n      <td>3344</td>\n      <td>2463</td>\n      <td>44</td>\n      <td>NaN</td>\n      <td>NaN</td>\n      <td>1787</td>\n      <td>102.0</td>\n    </tr>\n  </tbody>\n</table>\n<p>7668 rows × 15 columns</p>\n</div>"
          },
          "metadata": {}
        }
      ],
      "execution_count": 26,
      "metadata": {
        "collapsed": true,
        "jupyter": {
          "source_hidden": false,
          "outputs_hidden": false
        },
        "nteract": {
          "transient": {
            "deleting": false
          }
        },
        "execution": {
          "iopub.status.busy": "2021-12-08T00:21:36.332Z",
          "iopub.execute_input": "2021-12-08T00:21:36.341Z",
          "iopub.status.idle": "2021-12-08T00:21:36.395Z",
          "shell.execute_reply": "2021-12-08T00:21:36.415Z"
        }
      }
    },
    {
      "cell_type": "code",
      "source": [
        "df"
      ],
      "outputs": [
        {
          "output_type": "execute_result",
          "execution_count": 27,
          "data": {
            "text/plain": "      name  rating  genre  year  released  score      votes  director  writer  \\\n0     6587       6      6  1980      1705    8.4   927000.0      2589    4014   \n1     5573       6      1  1980      1492    5.8    65000.0      2269    1632   \n2     5142       4      0  1980      1771    8.7  1200000.0      1111    2567   \n3      286       4      4  1980      1492    7.7   221000.0      1301    2000   \n4     1027       6      4  1980      1543    7.3   108000.0      1054     521   \n...    ...     ...    ...   ...       ...    ...        ...       ...     ...   \n7663  3705      -1      6  2020      2964    3.1       18.0      1500    2289   \n7664  1678      -1      4  2020      1107    4.7       36.0       774    2614   \n7665  4717      -1      6  2020       193    5.7       29.0      2061    2683   \n7666  2843      -1      6  2020      2817    NaN        NaN      1184    1824   \n7667  5394      -1     10  2020       391    5.7        7.0      2165    3344   \n\n      star  country      budget        gross  company  runtime  \n0     1047       54  19000000.0   46998772.0     2319    146.0  \n1      327       55   4500000.0   58853106.0      731    104.0  \n2     1745       55  18000000.0  538375067.0     1540    124.0  \n3     2246       55   3500000.0   83453539.0     1812     88.0  \n4      410       55   6000000.0   39846344.0     1777     98.0  \n...    ...      ...         ...          ...      ...      ...  \n7663  2421       55      7000.0          NaN       -1     90.0  \n7664  1886       55         NaN          NaN      539     90.0  \n7665  2040       55     58750.0          NaN      941      NaN  \n7666   450       55     15000.0          NaN       -1    120.0  \n7667  2463       44         NaN          NaN     1787    102.0  \n\n[7668 rows x 15 columns]",
            "text/html": "<div>\n<style scoped>\n    .dataframe tbody tr th:only-of-type {\n        vertical-align: middle;\n    }\n\n    .dataframe tbody tr th {\n        vertical-align: top;\n    }\n\n    .dataframe thead th {\n        text-align: right;\n    }\n</style>\n<table border=\"1\" class=\"dataframe\">\n  <thead>\n    <tr style=\"text-align: right;\">\n      <th></th>\n      <th>name</th>\n      <th>rating</th>\n      <th>genre</th>\n      <th>year</th>\n      <th>released</th>\n      <th>score</th>\n      <th>votes</th>\n      <th>director</th>\n      <th>writer</th>\n      <th>star</th>\n      <th>country</th>\n      <th>budget</th>\n      <th>gross</th>\n      <th>company</th>\n      <th>runtime</th>\n    </tr>\n  </thead>\n  <tbody>\n    <tr>\n      <td>0</td>\n      <td>6587</td>\n      <td>6</td>\n      <td>6</td>\n      <td>1980</td>\n      <td>1705</td>\n      <td>8.4</td>\n      <td>927000.0</td>\n      <td>2589</td>\n      <td>4014</td>\n      <td>1047</td>\n      <td>54</td>\n      <td>19000000.0</td>\n      <td>46998772.0</td>\n      <td>2319</td>\n      <td>146.0</td>\n    </tr>\n    <tr>\n      <td>1</td>\n      <td>5573</td>\n      <td>6</td>\n      <td>1</td>\n      <td>1980</td>\n      <td>1492</td>\n      <td>5.8</td>\n      <td>65000.0</td>\n      <td>2269</td>\n      <td>1632</td>\n      <td>327</td>\n      <td>55</td>\n      <td>4500000.0</td>\n      <td>58853106.0</td>\n      <td>731</td>\n      <td>104.0</td>\n    </tr>\n    <tr>\n      <td>2</td>\n      <td>5142</td>\n      <td>4</td>\n      <td>0</td>\n      <td>1980</td>\n      <td>1771</td>\n      <td>8.7</td>\n      <td>1200000.0</td>\n      <td>1111</td>\n      <td>2567</td>\n      <td>1745</td>\n      <td>55</td>\n      <td>18000000.0</td>\n      <td>538375067.0</td>\n      <td>1540</td>\n      <td>124.0</td>\n    </tr>\n    <tr>\n      <td>3</td>\n      <td>286</td>\n      <td>4</td>\n      <td>4</td>\n      <td>1980</td>\n      <td>1492</td>\n      <td>7.7</td>\n      <td>221000.0</td>\n      <td>1301</td>\n      <td>2000</td>\n      <td>2246</td>\n      <td>55</td>\n      <td>3500000.0</td>\n      <td>83453539.0</td>\n      <td>1812</td>\n      <td>88.0</td>\n    </tr>\n    <tr>\n      <td>4</td>\n      <td>1027</td>\n      <td>6</td>\n      <td>4</td>\n      <td>1980</td>\n      <td>1543</td>\n      <td>7.3</td>\n      <td>108000.0</td>\n      <td>1054</td>\n      <td>521</td>\n      <td>410</td>\n      <td>55</td>\n      <td>6000000.0</td>\n      <td>39846344.0</td>\n      <td>1777</td>\n      <td>98.0</td>\n    </tr>\n    <tr>\n      <td>...</td>\n      <td>...</td>\n      <td>...</td>\n      <td>...</td>\n      <td>...</td>\n      <td>...</td>\n      <td>...</td>\n      <td>...</td>\n      <td>...</td>\n      <td>...</td>\n      <td>...</td>\n      <td>...</td>\n      <td>...</td>\n      <td>...</td>\n      <td>...</td>\n      <td>...</td>\n    </tr>\n    <tr>\n      <td>7663</td>\n      <td>3705</td>\n      <td>-1</td>\n      <td>6</td>\n      <td>2020</td>\n      <td>2964</td>\n      <td>3.1</td>\n      <td>18.0</td>\n      <td>1500</td>\n      <td>2289</td>\n      <td>2421</td>\n      <td>55</td>\n      <td>7000.0</td>\n      <td>NaN</td>\n      <td>-1</td>\n      <td>90.0</td>\n    </tr>\n    <tr>\n      <td>7664</td>\n      <td>1678</td>\n      <td>-1</td>\n      <td>4</td>\n      <td>2020</td>\n      <td>1107</td>\n      <td>4.7</td>\n      <td>36.0</td>\n      <td>774</td>\n      <td>2614</td>\n      <td>1886</td>\n      <td>55</td>\n      <td>NaN</td>\n      <td>NaN</td>\n      <td>539</td>\n      <td>90.0</td>\n    </tr>\n    <tr>\n      <td>7665</td>\n      <td>4717</td>\n      <td>-1</td>\n      <td>6</td>\n      <td>2020</td>\n      <td>193</td>\n      <td>5.7</td>\n      <td>29.0</td>\n      <td>2061</td>\n      <td>2683</td>\n      <td>2040</td>\n      <td>55</td>\n      <td>58750.0</td>\n      <td>NaN</td>\n      <td>941</td>\n      <td>NaN</td>\n    </tr>\n    <tr>\n      <td>7666</td>\n      <td>2843</td>\n      <td>-1</td>\n      <td>6</td>\n      <td>2020</td>\n      <td>2817</td>\n      <td>NaN</td>\n      <td>NaN</td>\n      <td>1184</td>\n      <td>1824</td>\n      <td>450</td>\n      <td>55</td>\n      <td>15000.0</td>\n      <td>NaN</td>\n      <td>-1</td>\n      <td>120.0</td>\n    </tr>\n    <tr>\n      <td>7667</td>\n      <td>5394</td>\n      <td>-1</td>\n      <td>10</td>\n      <td>2020</td>\n      <td>391</td>\n      <td>5.7</td>\n      <td>7.0</td>\n      <td>2165</td>\n      <td>3344</td>\n      <td>2463</td>\n      <td>44</td>\n      <td>NaN</td>\n      <td>NaN</td>\n      <td>1787</td>\n      <td>102.0</td>\n    </tr>\n  </tbody>\n</table>\n<p>7668 rows × 15 columns</p>\n</div>"
          },
          "metadata": {}
        }
      ],
      "execution_count": 27,
      "metadata": {
        "collapsed": true,
        "jupyter": {
          "source_hidden": false,
          "outputs_hidden": false
        },
        "nteract": {
          "transient": {
            "deleting": false
          }
        },
        "execution": {
          "iopub.status.busy": "2021-12-08T00:23:17.897Z",
          "iopub.execute_input": "2021-12-08T00:23:17.903Z",
          "iopub.status.idle": "2021-12-08T00:23:17.918Z",
          "shell.execute_reply": "2021-12-08T00:23:17.940Z"
        }
      }
    },
    {
      "cell_type": "code",
      "source": [
        "correlation_mat = df_numerized.corr()\n",
        "corr_pairs = correlation_mat.unstack()\n",
        "corr_pairs"
      ],
      "outputs": [
        {
          "output_type": "execute_result",
          "execution_count": 31,
          "data": {
            "text/plain": "budget   genre     -0.356564\ngenre    budget    -0.356564\n         gross     -0.235650\ngross    genre     -0.235650\nrating   budget    -0.176002\n                      ...   \nyear     year       1.000000\ngenre    genre      1.000000\nrating   rating     1.000000\ncompany  company    1.000000\nruntime  runtime    1.000000\nLength: 225, dtype: float64"
          },
          "metadata": {}
        }
      ],
      "execution_count": 31,
      "metadata": {
        "collapsed": true,
        "jupyter": {
          "source_hidden": false,
          "outputs_hidden": false
        },
        "nteract": {
          "transient": {
            "deleting": false
          }
        },
        "execution": {
          "iopub.status.busy": "2021-12-08T00:28:00.597Z",
          "iopub.execute_input": "2021-12-08T00:28:00.605Z",
          "iopub.status.idle": "2021-12-08T00:28:00.624Z",
          "shell.execute_reply": "2021-12-08T00:28:00.644Z"
        }
      }
    },
    {
      "cell_type": "code",
      "source": [
        "sorted_pairs = corr_pairs.sort_values()\n",
        "sorted_pairs"
      ],
      "outputs": [
        {
          "output_type": "execute_result",
          "execution_count": 32,
          "data": {
            "text/plain": "budget   genre     -0.356564\ngenre    budget    -0.356564\n         gross     -0.235650\ngross    genre     -0.235650\nrating   budget    -0.176002\n                      ...   \nyear     year       1.000000\ngenre    genre      1.000000\nrating   rating     1.000000\ncompany  company    1.000000\nruntime  runtime    1.000000\nLength: 225, dtype: float64"
          },
          "metadata": {}
        }
      ],
      "execution_count": 32,
      "metadata": {
        "collapsed": true,
        "jupyter": {
          "source_hidden": false,
          "outputs_hidden": false
        },
        "nteract": {
          "transient": {
            "deleting": false
          }
        },
        "execution": {
          "iopub.status.busy": "2021-12-08T00:28:08.352Z",
          "iopub.execute_input": "2021-12-08T00:28:08.359Z",
          "iopub.status.idle": "2021-12-08T00:28:08.375Z",
          "shell.execute_reply": "2021-12-08T00:28:08.389Z"
        }
      }
    },
    {
      "cell_type": "code",
      "source": [
        "high_corr = sorted_pairs[(sorted_pairs) > 0.5]\n",
        "high_corr"
      ],
      "outputs": [
        {
          "output_type": "execute_result",
          "execution_count": 35,
          "data": {
            "text/plain": "gross     votes       0.630757\nvotes     gross       0.630757\nbudget    gross       0.740395\ngross     budget      0.740395\nname      name        1.000000\ndirector  director    1.000000\ngross     gross       1.000000\nbudget    budget      1.000000\ncountry   country     1.000000\nstar      star        1.000000\nwriter    writer      1.000000\nvotes     votes       1.000000\nscore     score       1.000000\nreleased  released    1.000000\nyear      year        1.000000\ngenre     genre       1.000000\nrating    rating      1.000000\ncompany   company     1.000000\nruntime   runtime     1.000000\ndtype: float64"
          },
          "metadata": {}
        }
      ],
      "execution_count": 35,
      "metadata": {
        "collapsed": true,
        "jupyter": {
          "source_hidden": false,
          "outputs_hidden": false
        },
        "nteract": {
          "transient": {
            "deleting": false
          }
        },
        "execution": {
          "iopub.status.busy": "2021-12-08T00:29:03.047Z",
          "iopub.execute_input": "2021-12-08T00:29:03.056Z",
          "iopub.status.idle": "2021-12-08T00:29:03.073Z",
          "shell.execute_reply": "2021-12-08T00:29:03.088Z"
        }
      }
    },
    {
      "cell_type": "code",
      "source": [],
      "outputs": [],
      "execution_count": null,
      "metadata": {
        "collapsed": true,
        "jupyter": {
          "source_hidden": false,
          "outputs_hidden": false
        },
        "nteract": {
          "transient": {
            "deleting": false
          }
        }
      }
    }
  ],
  "metadata": {
    "kernel_info": {
      "name": "python3"
    },
    "language_info": {
      "name": "python",
      "version": "3.7.4",
      "mimetype": "text/x-python",
      "codemirror_mode": {
        "name": "ipython",
        "version": 3
      },
      "pygments_lexer": "ipython3",
      "nbconvert_exporter": "python",
      "file_extension": ".py"
    },
    "kernelspec": {
      "argv": [
        "python",
        "-m",
        "ipykernel_launcher",
        "-f",
        "{connection_file}"
      ],
      "display_name": "Python 3",
      "language": "python",
      "name": "python3"
    },
    "nteract": {
      "version": "0.28.0"
    }
  },
  "nbformat": 4,
  "nbformat_minor": 0
}